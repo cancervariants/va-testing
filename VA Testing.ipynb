{
 "cells": [
  {
   "cell_type": "markdown",
   "metadata": {},
   "source": [
    "# VA Value Sets"
   ]
  },
  {
   "cell_type": "code",
   "execution_count": 5,
   "metadata": {},
   "outputs": [],
   "source": [
    "from civicpy import civic\n",
    "from collections import Counter"
   ]
  },
  {
   "cell_type": "code",
   "execution_count": 2,
   "metadata": {},
   "outputs": [
    {
     "name": "stderr",
     "output_type": "stream",
     "text": [
      "WARNING:root:Local cache at /Users/awagner/.civicpy/cache.pkl is stale, updating from remote.\n",
      "WARNING:root:Downloading remote cache from https://civicdb.org/downloads/nightly/nightly-civicpy_cache.pkl.\n"
     ]
    }
   ],
   "source": [
    "evidence = civic.get_all_evidence()"
   ]
  },
  {
   "cell_type": "code",
   "execution_count": 6,
   "metadata": {},
   "outputs": [
    {
     "data": {
      "text/plain": [
       "Counter({'Somatic': 4767,\n",
       "         'Rare Germline': 1605,\n",
       "         'N/A': 380,\n",
       "         'Common Germline': 62,\n",
       "         None: 39,\n",
       "         'Unknown': 78})"
      ]
     },
     "execution_count": 6,
     "metadata": {},
     "output_type": "execute_result"
    }
   ],
   "source": [
    "c = Counter([x.variant_origin for x in evidence])\n",
    "c"
   ]
  },
  {
   "cell_type": "markdown",
   "metadata": {},
   "source": [
    "`Somatic` is directly mappable to GENO term, as does `Unknown`. Others do not directly map."
   ]
  },
  {
   "cell_type": "code",
   "execution_count": 14,
   "metadata": {},
   "outputs": [
    {
     "data": {
      "text/plain": [
       "{'AKAP9-BRAF',\n",
       " 'ALTERNATIVE TRANSCRIPT (ATI)',\n",
       " 'AMPLIFICATION',\n",
       " 'C609Y',\n",
       " 'CYTOPLASMIC EXPRESSION',\n",
       " 'DELETION',\n",
       " 'E70* (c.208G>T)',\n",
       " 'ETV6-NTRK3',\n",
       " 'ETV6-NTRK3 FUSION',\n",
       " 'EXON 18 OVEREXPRESSION',\n",
       " 'EXPRESSION',\n",
       " 'FGFR2-BICC1',\n",
       " 'FUSION',\n",
       " 'H1112L',\n",
       " 'ISOFORM EXPRESSION',\n",
       " 'KIF5B-RET',\n",
       " 'LMNA-NTRK1',\n",
       " 'LOSS',\n",
       " 'LOSS-OF-FUNCTION',\n",
       " 'MET-ATXN7L1 fusion',\n",
       " 'MUTATION',\n",
       " 'NON-AMPLIFICATION',\n",
       " 'NRG1 fusion',\n",
       " 'NTRK1 FUSIONS',\n",
       " 'NTRK2-STRN fusion',\n",
       " 'NUCLEAR EXPRESSION',\n",
       " 'NUCLEAR TRANSLOCATION',\n",
       " 'OVEREXPRESSION',\n",
       " 'P655R',\n",
       " 'PDE4DIP-NTRK1',\n",
       " 'PHOSPHORYLATION',\n",
       " 'PROMOTER METHYLATION',\n",
       " 'Q61H',\n",
       " 'R130*',\n",
       " 'R173C',\n",
       " 'R82_V84del (c.244_252del)',\n",
       " 'SERUM LEVELS',\n",
       " 'SPLICE VARIANT 7',\n",
       " 'SQSTM1-NTRK1',\n",
       " 'T172 PHOSPHORYLATION',\n",
       " 'TMP3-NTRK1',\n",
       " 'TMPRSS2-ERG',\n",
       " 'TRIM24-BRAF',\n",
       " 'UNDEREXPRESSION',\n",
       " 'WILD TYPE',\n",
       " 'Y1092 PHOSPHORYLATION',\n",
       " 'p16 EXPRESSION'}"
      ]
     },
     "execution_count": 14,
     "metadata": {},
     "output_type": "execute_result"
    }
   ],
   "source": [
    "na_variants = set([e.variant.name for e in evidence if e.variant_origin == 'N/A'])\n",
    "na_variants"
   ]
  },
  {
   "cell_type": "markdown",
   "metadata": {},
   "source": [
    "From above, it is clear that in most cases, the use of `N/A` is proper for non-sequence forms of molecular variation (e.g. abundance or epigenetic modifications). These and `None` valued objects may be safely ignored.\n",
    "\n",
    "This leaves only `Rare Germline` and `Common Germline`. This is clearly a 2-axis problem, we could use the `GENO` term for `Germline` and add a second field for rarity that leverages `polymorphic` (http://purl.obolibrary.org/obo/GENO_0000477) and `mutant` (http://purl.obolibrary.org/obo/GENO_0000480) terms from `GENO`."
   ]
  }
 ],
 "metadata": {
  "kernelspec": {
   "display_name": "Python 3",
   "language": "python",
   "name": "python3"
  },
  "language_info": {
   "codemirror_mode": {
    "name": "ipython",
    "version": 3
   },
   "file_extension": ".py",
   "mimetype": "text/x-python",
   "name": "python",
   "nbconvert_exporter": "python",
   "pygments_lexer": "ipython3",
   "version": "3.8.2"
  }
 },
 "nbformat": 4,
 "nbformat_minor": 4
}
